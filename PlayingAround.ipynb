{
 "cells": [
  {
   "cell_type": "markdown",
   "metadata": {},
   "source": [
    "## Create random biases and weights based on the sizes of layers"
   ]
  },
  {
   "cell_type": "code",
   "execution_count": 41,
   "metadata": {
    "collapsed": false
   },
   "outputs": [
    {
     "name": "stdout",
     "output_type": "stream",
     "text": [
      "[array([[ 0.29940437],\n",
      "       [ 0.39523814]]), array([[-0.3993506]])]\n",
      "[array([[ 0.36393063,  0.45300847, -2.58189088],\n",
      "       [-0.81568683,  1.48953631, -0.09154913]]), array([[-0.70005288, -1.18166425]])]\n"
     ]
    }
   ],
   "source": [
    "import numpy\n",
    "layers = [3, 2, 1]\n",
    "\n",
    "biases = [numpy.random.randn(y, 1) for y in layers[1:]]\n",
    "weights = [numpy.random.randn(y, x) for x, y in zip(layers[:-1], layers[1:])]\n",
    "\n",
    "print(biases)\n",
    "print(weights)"
   ]
  },
  {
   "cell_type": "markdown",
   "metadata": {},
   "source": [
    "## Randomly Select Sample from two arrays"
   ]
  },
  {
   "cell_type": "code",
   "execution_count": 105,
   "metadata": {
    "collapsed": false
   },
   "outputs": [
    {
     "name": "stdout",
     "output_type": "stream",
     "text": [
      "(1, '1')\n",
      "(6, '6')\n",
      "(7, '7')\n",
      "(4, '4')\n",
      "(10, '10')\n"
     ]
    }
   ],
   "source": [
    "x = [1,2,3,4,5,6,7,8,9,10]\n",
    "y= ['1', '2', '3', '4', '5', '6', '7', '8', '9', '10']\n",
    "sample_size = 5\n",
    "\n",
    "for x1, y1 in list((x[i], y[i]) for i in numpy.random.choice(range(0, len(x)), sample_size, False)):\n",
    "    print((x1, y1))"
   ]
  }
 ],
 "metadata": {
  "kernelspec": {
   "display_name": "Python 3",
   "language": "python",
   "name": "python3"
  },
  "language_info": {
   "codemirror_mode": {
    "name": "ipython",
    "version": 3
   },
   "file_extension": ".py",
   "mimetype": "text/x-python",
   "name": "python",
   "nbconvert_exporter": "python",
   "pygments_lexer": "ipython3",
   "version": "3.5.1"
  }
 },
 "nbformat": 4,
 "nbformat_minor": 0
}
